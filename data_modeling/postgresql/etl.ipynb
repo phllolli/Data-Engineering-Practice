{
 "metadata": {
  "language_info": {
   "codemirror_mode": {
    "name": "ipython",
    "version": 3
   },
   "file_extension": ".py",
   "mimetype": "text/x-python",
   "name": "python",
   "nbconvert_exporter": "python",
   "pygments_lexer": "ipython3",
   "version": "3.7.6-final"
  },
  "orig_nbformat": 2,
  "kernelspec": {
   "name": "python3",
   "display_name": "Python 3",
   "language": "python"
  }
 },
 "nbformat": 4,
 "nbformat_minor": 2,
 "cells": [
  {
   "cell_type": "code",
   "execution_count": 1,
   "metadata": {},
   "outputs": [],
   "source": [
    "import os, glob\n",
    "import numpy as np\n",
    "import pandas as pd\n",
    "import psycopg2\n",
    "import sql_queries"
   ]
  },
  {
   "cell_type": "code",
   "execution_count": 2,
   "metadata": {},
   "outputs": [],
   "source": [
    "conn = psycopg2.connect(\n",
    "    \"host=127.0.0.1 dbname=mydb user=postgres password={}\".format(open('password.txt','r').read())\n",
    "    )\n",
    "cur = conn.cursor()"
   ]
  },
  {
   "cell_type": "code",
   "execution_count": 3,
   "metadata": {},
   "outputs": [],
   "source": [
    "def get_files(filepath):\n",
    "    all_files = []\n",
    "    for root, dirs, files in os.walk(filepath):\n",
    "        files = glob.glob(os.path.join(root, '*json'))\n",
    "        for f in files:\n",
    "            if 'checkpoint' in os.path.abspath(f):\n",
    "                break\n",
    "            else:\n",
    "                all_files.append(os.path.abspath(f).replace('\\\\', '/'))\n",
    "\n",
    "    return all_files"
   ]
  },
  {
   "cell_type": "code",
   "execution_count": 4,
   "metadata": {},
   "outputs": [],
   "source": [
    "def nan_to_null(f, \n",
    "_NULL=psycopg2.extensions.AsIs('NULL'), \n",
    "_Float=psycopg2.extensions.Float):\n",
    "\n",
    "    if not np.isnan(f):\n",
    "        return _Float(f)\n",
    "    return _NULL\n",
    "\n",
    "psycopg2.extensions.register_adapter(float, nan_to_null)"
   ]
  },
  {
   "cell_type": "code",
   "execution_count": 5,
   "metadata": {},
   "outputs": [
    {
     "output_type": "execute_result",
     "data": {
      "text/plain": [
       "            artist_id  artist_latitude artist_location  artist_longitude  \\\n",
       "0  ARMJAGH1187FB546F3         35.14968     Memphis, TN         -90.04892   \n",
       "\n",
       "    artist_name   duration  num_songs             song_id      title  year  \n",
       "0  The Box Tops  148.03546          1  SOCIWDW12A8C13D406  Soul Deep  1969  "
      ],
      "text/html": "<div>\n<style scoped>\n    .dataframe tbody tr th:only-of-type {\n        vertical-align: middle;\n    }\n\n    .dataframe tbody tr th {\n        vertical-align: top;\n    }\n\n    .dataframe thead th {\n        text-align: right;\n    }\n</style>\n<table border=\"1\" class=\"dataframe\">\n  <thead>\n    <tr style=\"text-align: right;\">\n      <th></th>\n      <th>artist_id</th>\n      <th>artist_latitude</th>\n      <th>artist_location</th>\n      <th>artist_longitude</th>\n      <th>artist_name</th>\n      <th>duration</th>\n      <th>num_songs</th>\n      <th>song_id</th>\n      <th>title</th>\n      <th>year</th>\n    </tr>\n  </thead>\n  <tbody>\n    <tr>\n      <th>0</th>\n      <td>ARMJAGH1187FB546F3</td>\n      <td>35.14968</td>\n      <td>Memphis, TN</td>\n      <td>-90.04892</td>\n      <td>The Box Tops</td>\n      <td>148.03546</td>\n      <td>1</td>\n      <td>SOCIWDW12A8C13D406</td>\n      <td>Soul Deep</td>\n      <td>1969</td>\n    </tr>\n  </tbody>\n</table>\n</div>"
     },
     "metadata": {},
     "execution_count": 5
    }
   ],
   "source": [
    "song_files = get_files('data/song_data')\n",
    "\n",
    "df_song = pd.read_json(song_files[1], lines=True)\n",
    "df_song = df_song.reindex(sorted(df_song.columns), axis=1).replace({np.nan, None})\n",
    "df_song.head()"
   ]
  },
  {
   "source": [
    "## artists Table\n",
    "Extract Data for Artists Table\n",
    "* Select columns for artist ID, name, location, latitude, and longitude\n",
    "* Use df.values to select just the values from the dataframe\n",
    "* Index to select the first (only) record in the dataframe\n",
    "* Convert the array to a list and set it to artist_data"
   ],
   "cell_type": "markdown",
   "metadata": {}
  },
  {
   "cell_type": "code",
   "execution_count": 6,
   "metadata": {},
   "outputs": [
    {
     "output_type": "stream",
     "name": "stdout",
     "text": [
      "['ARMJAGH1187FB546F3', 'The Box Tops', 'Memphis, TN', 35.14968, -90.04892] \n \n            INSERT INTO artists\n            (artist_id, name, location, latitude, longitude)\n            VALUES (%s, %s, %s, %s, %s)\n            ON CONFLICT (artist_id) DO NOTHING;\n            \n"
     ]
    }
   ],
   "source": [
    "data_artist = df_song[[\"artist_id\", \"artist_name\", \"artist_location\", \"artist_latitude\", \"artist_longitude\"]].values[0].tolist()\n",
    "df_artist = df_song[[\"artist_id\", \"artist_name\", \"artist_location\", \"artist_latitude\", \"artist_longitude\"]]\n",
    "print(data_artist,'\\n',sql_queries.insert_record.artist)"
   ]
  },
  {
   "source": [
    "\n",
    "### Insert Record into Artist Table\n",
    "\n",
    "Implement the artist_table_insert query in sql_queries.py and run the cell below to insert a record for this song's artist into the artists table. Remember to run create_tables.py before running the cell below to ensure you've created/resetted the artists table in the sparkify database."
   ],
   "cell_type": "markdown",
   "metadata": {}
  },
  {
   "cell_type": "code",
   "execution_count": 7,
   "metadata": {},
   "outputs": [],
   "source": [
    "cur.execute(sql_queries.insert_record.artist, data_artist)\n",
    "conn.commit()"
   ]
  },
  {
   "source": [
    "## songs Table\n",
    "\n",
    "Extract Data for Songs Table\n",
    "* Select columns for song ID, title, artist ID, year, and duration\n",
    "* Use df.values to select just the values from the dataframe\n",
    "* Index to select the first (only) record in the dataframe\n",
    "* Convert the array to a list and set it to song_data\n"
   ],
   "cell_type": "markdown",
   "metadata": {}
  },
  {
   "source": [
    "artist_id, artist_latitude, artist_location, artist_longitude, artist_name, duration, num_songs, song_id, title, year = df_song.reset_index(drop=True).values[0]\n",
    "\n",
    "data_song = [song_id, title, artist_id, year, duration]"
   ],
   "cell_type": "code",
   "metadata": {},
   "execution_count": 8,
   "outputs": []
  },
  {
   "source": [
    "### Insert Record into Song Table\n",
    "Implement the song_table_insert query in sql_queries.py and run the cell below to insert a record for this song into the songs table. Remember to run create_tables.py before running the cell below to ensure you've created/resetted the songs table in the sparkify database."
   ],
   "cell_type": "markdown",
   "metadata": {}
  },
  {
   "cell_type": "code",
   "execution_count": 9,
   "metadata": {},
   "outputs": [
    {
     "output_type": "stream",
     "name": "stdout",
     "text": [
      "['SOCIWDW12A8C13D406', 'Soul Deep', 'ARMJAGH1187FB546F3', 1969, 148.03546] \n \n            INSERT INTO songs\n            (song_id, title, artist_id, year, duration)\n            VALUES (%s, %s, %s, %s, %s)\n            ON CONFLICT (song_id) DO NOTHING;\n            \n"
     ]
    }
   ],
   "source": [
    "print(data_song,'\\n',sql_queries.insert_record.song)"
   ]
  },
  {
   "cell_type": "code",
   "execution_count": 10,
   "metadata": {},
   "outputs": [],
   "source": [
    "cur.execute(sql_queries.insert_record.song, data_song)\n",
    "conn.commit()"
   ]
  },
  {
   "source": [
    "## Process log_data\n",
    "In this part, you'll perform ETL on the second dataset, log_data, to create the time and users dimensional tables, as well as the songplays fact table.\n",
    "\n",
    "Let's perform ETL on a single log file and load a single record into each table.\n",
    "\n",
    "* Use the get_files function provided above to get a list of all log JSON files in data/log_data\n",
    "* Select the first log file in this list\n",
    "* Read the log file and view the data"
   ],
   "cell_type": "markdown",
   "metadata": {}
  },
  {
   "cell_type": "code",
   "execution_count": 11,
   "metadata": {},
   "outputs": [
    {
     "output_type": "execute_result",
     "data": {
      "text/plain": [
       "['c:/Users/Admin/Documents/GitHub/SQLtest/data/log_data/2018/11/2018-11-01-events.json',\n",
       " 'c:/Users/Admin/Documents/GitHub/SQLtest/data/log_data/2018/11/2018-11-02-events.json',\n",
       " 'c:/Users/Admin/Documents/GitHub/SQLtest/data/log_data/2018/11/2018-11-03-events.json',\n",
       " 'c:/Users/Admin/Documents/GitHub/SQLtest/data/log_data/2018/11/2018-11-04-events.json',\n",
       " 'c:/Users/Admin/Documents/GitHub/SQLtest/data/log_data/2018/11/2018-11-05-events.json',\n",
       " 'c:/Users/Admin/Documents/GitHub/SQLtest/data/log_data/2018/11/2018-11-06-events.json',\n",
       " 'c:/Users/Admin/Documents/GitHub/SQLtest/data/log_data/2018/11/2018-11-07-events.json',\n",
       " 'c:/Users/Admin/Documents/GitHub/SQLtest/data/log_data/2018/11/2018-11-08-events.json',\n",
       " 'c:/Users/Admin/Documents/GitHub/SQLtest/data/log_data/2018/11/2018-11-09-events.json',\n",
       " 'c:/Users/Admin/Documents/GitHub/SQLtest/data/log_data/2018/11/2018-11-10-events.json',\n",
       " 'c:/Users/Admin/Documents/GitHub/SQLtest/data/log_data/2018/11/2018-11-11-events.json',\n",
       " 'c:/Users/Admin/Documents/GitHub/SQLtest/data/log_data/2018/11/2018-11-12-events.json',\n",
       " 'c:/Users/Admin/Documents/GitHub/SQLtest/data/log_data/2018/11/2018-11-13-events.json',\n",
       " 'c:/Users/Admin/Documents/GitHub/SQLtest/data/log_data/2018/11/2018-11-14-events.json',\n",
       " 'c:/Users/Admin/Documents/GitHub/SQLtest/data/log_data/2018/11/2018-11-15-events.json',\n",
       " 'c:/Users/Admin/Documents/GitHub/SQLtest/data/log_data/2018/11/2018-11-16-events.json',\n",
       " 'c:/Users/Admin/Documents/GitHub/SQLtest/data/log_data/2018/11/2018-11-17-events.json',\n",
       " 'c:/Users/Admin/Documents/GitHub/SQLtest/data/log_data/2018/11/2018-11-18-events.json',\n",
       " 'c:/Users/Admin/Documents/GitHub/SQLtest/data/log_data/2018/11/2018-11-19-events.json',\n",
       " 'c:/Users/Admin/Documents/GitHub/SQLtest/data/log_data/2018/11/2018-11-20-events.json',\n",
       " 'c:/Users/Admin/Documents/GitHub/SQLtest/data/log_data/2018/11/2018-11-21-events.json',\n",
       " 'c:/Users/Admin/Documents/GitHub/SQLtest/data/log_data/2018/11/2018-11-22-events.json',\n",
       " 'c:/Users/Admin/Documents/GitHub/SQLtest/data/log_data/2018/11/2018-11-23-events.json',\n",
       " 'c:/Users/Admin/Documents/GitHub/SQLtest/data/log_data/2018/11/2018-11-24-events.json',\n",
       " 'c:/Users/Admin/Documents/GitHub/SQLtest/data/log_data/2018/11/2018-11-25-events.json',\n",
       " 'c:/Users/Admin/Documents/GitHub/SQLtest/data/log_data/2018/11/2018-11-26-events.json',\n",
       " 'c:/Users/Admin/Documents/GitHub/SQLtest/data/log_data/2018/11/2018-11-27-events.json',\n",
       " 'c:/Users/Admin/Documents/GitHub/SQLtest/data/log_data/2018/11/2018-11-28-events.json',\n",
       " 'c:/Users/Admin/Documents/GitHub/SQLtest/data/log_data/2018/11/2018-11-29-events.json',\n",
       " 'c:/Users/Admin/Documents/GitHub/SQLtest/data/log_data/2018/11/2018-11-30-events.json']"
      ]
     },
     "metadata": {},
     "execution_count": 11
    }
   ],
   "source": [
    "log_files = get_files('data/log_data')\n",
    "log_files"
   ]
  },
  {
   "cell_type": "code",
   "execution_count": 12,
   "metadata": {},
   "outputs": [
    {
     "output_type": "execute_result",
     "data": {
      "text/plain": [
       "                        artist       auth firstName gender  itemInSession  \\\n",
       "0                         None  Logged In    Walter      M              0   \n",
       "1                         None  Logged In    Kaylee      F              0   \n",
       "2                      Des'ree  Logged In    Kaylee      F              1   \n",
       "3                         None  Logged In    Kaylee      F              2   \n",
       "4                      Mr Oizo  Logged In    Kaylee      F              3   \n",
       "5                   Tamba Trio  Logged In    Kaylee      F              4   \n",
       "6               The Mars Volta  Logged In    Kaylee      F              5   \n",
       "7            Infected Mushroom  Logged In    Kaylee      F              6   \n",
       "8   Blue October / Imogen Heap  Logged In    Kaylee      F              7   \n",
       "9                    Girl Talk  Logged In    Kaylee      F              8   \n",
       "10             Black Eyed Peas  Logged In    Sylvie      F              0   \n",
       "11                        None  Logged In      Ryan      M              0   \n",
       "12                Fall Out Boy  Logged In      Ryan      M              1   \n",
       "13                      M.I.A.  Logged In      Ryan      M              2   \n",
       "14                    Survivor  Logged In    Jayden      M              0   \n",
       "\n",
       "   lastName     length level                                      location  \\\n",
       "0      Frye        NaN  free             San Francisco-Oakland-Hayward, CA   \n",
       "1   Summers        NaN  free                   Phoenix-Mesa-Scottsdale, AZ   \n",
       "2   Summers  246.30812  free                   Phoenix-Mesa-Scottsdale, AZ   \n",
       "3   Summers        NaN  free                   Phoenix-Mesa-Scottsdale, AZ   \n",
       "4   Summers  144.03873  free                   Phoenix-Mesa-Scottsdale, AZ   \n",
       "5   Summers  177.18812  free                   Phoenix-Mesa-Scottsdale, AZ   \n",
       "6   Summers  380.42077  free                   Phoenix-Mesa-Scottsdale, AZ   \n",
       "7   Summers  440.26730  free                   Phoenix-Mesa-Scottsdale, AZ   \n",
       "8   Summers  241.39710  free                   Phoenix-Mesa-Scottsdale, AZ   \n",
       "9   Summers  160.15628  free                   Phoenix-Mesa-Scottsdale, AZ   \n",
       "10     Cruz  214.93506  free  Washington-Arlington-Alexandria, DC-VA-MD-WV   \n",
       "11    Smith        NaN  free            San Jose-Sunnyvale-Santa Clara, CA   \n",
       "12    Smith  200.72444  free            San Jose-Sunnyvale-Santa Clara, CA   \n",
       "13    Smith  233.71710  free            San Jose-Sunnyvale-Santa Clara, CA   \n",
       "14      Fox  245.36771  free                      New Orleans-Metairie, LA   \n",
       "\n",
       "   method      page   registration  sessionId  \\\n",
       "0     GET      Home  1540919166796         38   \n",
       "1     GET      Home  1540344794796        139   \n",
       "2     PUT  NextSong  1540344794796        139   \n",
       "3     GET   Upgrade  1540344794796        139   \n",
       "4     PUT  NextSong  1540344794796        139   \n",
       "5     PUT  NextSong  1540344794796        139   \n",
       "6     PUT  NextSong  1540344794796        139   \n",
       "7     PUT  NextSong  1540344794796        139   \n",
       "8     PUT  NextSong  1540344794796        139   \n",
       "9     PUT  NextSong  1540344794796        139   \n",
       "10    PUT  NextSong  1540266185796          9   \n",
       "11    GET      Home  1541016707796        169   \n",
       "12    PUT  NextSong  1541016707796        169   \n",
       "13    PUT  NextSong  1541016707796        169   \n",
       "14    PUT  NextSong  1541033612796        100   \n",
       "\n",
       "                                                song  status             ts  \\\n",
       "0                                               None     200  1541105830796   \n",
       "1                                               None     200  1541106106796   \n",
       "2                                       You Gotta Be     200  1541106106796   \n",
       "3                                               None     200  1541106132796   \n",
       "4                                            Flat 55     200  1541106352796   \n",
       "5                       Quem Quiser Encontrar O Amor     200  1541106496796   \n",
       "6                                          Eriatarka     200  1541106673796   \n",
       "7                                    Becoming Insane     200  1541107053796   \n",
       "8                                    Congratulations     200  1541107493796   \n",
       "9                                         Once again     200  1541107734796   \n",
       "10                                           Pump It     200  1541108520796   \n",
       "11                                              None     200  1541109015796   \n",
       "12                    Nobody Puts Baby In The Corner     200  1541109125796   \n",
       "13  Mango Pickle Down River (With The Wilcannia Mob)     200  1541109325796   \n",
       "14                                  Eye Of The Tiger     200  1541110994796   \n",
       "\n",
       "                                            userAgent  userId  \n",
       "0   \"Mozilla/5.0 (Macintosh; Intel Mac OS X 10_9_4...      39  \n",
       "1   \"Mozilla/5.0 (Windows NT 6.1; WOW64) AppleWebK...       8  \n",
       "2   \"Mozilla/5.0 (Windows NT 6.1; WOW64) AppleWebK...       8  \n",
       "3   \"Mozilla/5.0 (Windows NT 6.1; WOW64) AppleWebK...       8  \n",
       "4   \"Mozilla/5.0 (Windows NT 6.1; WOW64) AppleWebK...       8  \n",
       "5   \"Mozilla/5.0 (Windows NT 6.1; WOW64) AppleWebK...       8  \n",
       "6   \"Mozilla/5.0 (Windows NT 6.1; WOW64) AppleWebK...       8  \n",
       "7   \"Mozilla/5.0 (Windows NT 6.1; WOW64) AppleWebK...       8  \n",
       "8   \"Mozilla/5.0 (Windows NT 6.1; WOW64) AppleWebK...       8  \n",
       "9   \"Mozilla/5.0 (Windows NT 6.1; WOW64) AppleWebK...       8  \n",
       "10  \"Mozilla/5.0 (Macintosh; Intel Mac OS X 10_9_4...      10  \n",
       "11  \"Mozilla/5.0 (X11; Linux x86_64) AppleWebKit/5...      26  \n",
       "12  \"Mozilla/5.0 (X11; Linux x86_64) AppleWebKit/5...      26  \n",
       "13  \"Mozilla/5.0 (X11; Linux x86_64) AppleWebKit/5...      26  \n",
       "14  \"Mozilla/5.0 (Windows NT 6.3; WOW64) AppleWebK...     101  "
      ],
      "text/html": "<div>\n<style scoped>\n    .dataframe tbody tr th:only-of-type {\n        vertical-align: middle;\n    }\n\n    .dataframe tbody tr th {\n        vertical-align: top;\n    }\n\n    .dataframe thead th {\n        text-align: right;\n    }\n</style>\n<table border=\"1\" class=\"dataframe\">\n  <thead>\n    <tr style=\"text-align: right;\">\n      <th></th>\n      <th>artist</th>\n      <th>auth</th>\n      <th>firstName</th>\n      <th>gender</th>\n      <th>itemInSession</th>\n      <th>lastName</th>\n      <th>length</th>\n      <th>level</th>\n      <th>location</th>\n      <th>method</th>\n      <th>page</th>\n      <th>registration</th>\n      <th>sessionId</th>\n      <th>song</th>\n      <th>status</th>\n      <th>ts</th>\n      <th>userAgent</th>\n      <th>userId</th>\n    </tr>\n  </thead>\n  <tbody>\n    <tr>\n      <th>0</th>\n      <td>None</td>\n      <td>Logged In</td>\n      <td>Walter</td>\n      <td>M</td>\n      <td>0</td>\n      <td>Frye</td>\n      <td>NaN</td>\n      <td>free</td>\n      <td>San Francisco-Oakland-Hayward, CA</td>\n      <td>GET</td>\n      <td>Home</td>\n      <td>1540919166796</td>\n      <td>38</td>\n      <td>None</td>\n      <td>200</td>\n      <td>1541105830796</td>\n      <td>\"Mozilla/5.0 (Macintosh; Intel Mac OS X 10_9_4...</td>\n      <td>39</td>\n    </tr>\n    <tr>\n      <th>1</th>\n      <td>None</td>\n      <td>Logged In</td>\n      <td>Kaylee</td>\n      <td>F</td>\n      <td>0</td>\n      <td>Summers</td>\n      <td>NaN</td>\n      <td>free</td>\n      <td>Phoenix-Mesa-Scottsdale, AZ</td>\n      <td>GET</td>\n      <td>Home</td>\n      <td>1540344794796</td>\n      <td>139</td>\n      <td>None</td>\n      <td>200</td>\n      <td>1541106106796</td>\n      <td>\"Mozilla/5.0 (Windows NT 6.1; WOW64) AppleWebK...</td>\n      <td>8</td>\n    </tr>\n    <tr>\n      <th>2</th>\n      <td>Des'ree</td>\n      <td>Logged In</td>\n      <td>Kaylee</td>\n      <td>F</td>\n      <td>1</td>\n      <td>Summers</td>\n      <td>246.30812</td>\n      <td>free</td>\n      <td>Phoenix-Mesa-Scottsdale, AZ</td>\n      <td>PUT</td>\n      <td>NextSong</td>\n      <td>1540344794796</td>\n      <td>139</td>\n      <td>You Gotta Be</td>\n      <td>200</td>\n      <td>1541106106796</td>\n      <td>\"Mozilla/5.0 (Windows NT 6.1; WOW64) AppleWebK...</td>\n      <td>8</td>\n    </tr>\n    <tr>\n      <th>3</th>\n      <td>None</td>\n      <td>Logged In</td>\n      <td>Kaylee</td>\n      <td>F</td>\n      <td>2</td>\n      <td>Summers</td>\n      <td>NaN</td>\n      <td>free</td>\n      <td>Phoenix-Mesa-Scottsdale, AZ</td>\n      <td>GET</td>\n      <td>Upgrade</td>\n      <td>1540344794796</td>\n      <td>139</td>\n      <td>None</td>\n      <td>200</td>\n      <td>1541106132796</td>\n      <td>\"Mozilla/5.0 (Windows NT 6.1; WOW64) AppleWebK...</td>\n      <td>8</td>\n    </tr>\n    <tr>\n      <th>4</th>\n      <td>Mr Oizo</td>\n      <td>Logged In</td>\n      <td>Kaylee</td>\n      <td>F</td>\n      <td>3</td>\n      <td>Summers</td>\n      <td>144.03873</td>\n      <td>free</td>\n      <td>Phoenix-Mesa-Scottsdale, AZ</td>\n      <td>PUT</td>\n      <td>NextSong</td>\n      <td>1540344794796</td>\n      <td>139</td>\n      <td>Flat 55</td>\n      <td>200</td>\n      <td>1541106352796</td>\n      <td>\"Mozilla/5.0 (Windows NT 6.1; WOW64) AppleWebK...</td>\n      <td>8</td>\n    </tr>\n    <tr>\n      <th>5</th>\n      <td>Tamba Trio</td>\n      <td>Logged In</td>\n      <td>Kaylee</td>\n      <td>F</td>\n      <td>4</td>\n      <td>Summers</td>\n      <td>177.18812</td>\n      <td>free</td>\n      <td>Phoenix-Mesa-Scottsdale, AZ</td>\n      <td>PUT</td>\n      <td>NextSong</td>\n      <td>1540344794796</td>\n      <td>139</td>\n      <td>Quem Quiser Encontrar O Amor</td>\n      <td>200</td>\n      <td>1541106496796</td>\n      <td>\"Mozilla/5.0 (Windows NT 6.1; WOW64) AppleWebK...</td>\n      <td>8</td>\n    </tr>\n    <tr>\n      <th>6</th>\n      <td>The Mars Volta</td>\n      <td>Logged In</td>\n      <td>Kaylee</td>\n      <td>F</td>\n      <td>5</td>\n      <td>Summers</td>\n      <td>380.42077</td>\n      <td>free</td>\n      <td>Phoenix-Mesa-Scottsdale, AZ</td>\n      <td>PUT</td>\n      <td>NextSong</td>\n      <td>1540344794796</td>\n      <td>139</td>\n      <td>Eriatarka</td>\n      <td>200</td>\n      <td>1541106673796</td>\n      <td>\"Mozilla/5.0 (Windows NT 6.1; WOW64) AppleWebK...</td>\n      <td>8</td>\n    </tr>\n    <tr>\n      <th>7</th>\n      <td>Infected Mushroom</td>\n      <td>Logged In</td>\n      <td>Kaylee</td>\n      <td>F</td>\n      <td>6</td>\n      <td>Summers</td>\n      <td>440.26730</td>\n      <td>free</td>\n      <td>Phoenix-Mesa-Scottsdale, AZ</td>\n      <td>PUT</td>\n      <td>NextSong</td>\n      <td>1540344794796</td>\n      <td>139</td>\n      <td>Becoming Insane</td>\n      <td>200</td>\n      <td>1541107053796</td>\n      <td>\"Mozilla/5.0 (Windows NT 6.1; WOW64) AppleWebK...</td>\n      <td>8</td>\n    </tr>\n    <tr>\n      <th>8</th>\n      <td>Blue October / Imogen Heap</td>\n      <td>Logged In</td>\n      <td>Kaylee</td>\n      <td>F</td>\n      <td>7</td>\n      <td>Summers</td>\n      <td>241.39710</td>\n      <td>free</td>\n      <td>Phoenix-Mesa-Scottsdale, AZ</td>\n      <td>PUT</td>\n      <td>NextSong</td>\n      <td>1540344794796</td>\n      <td>139</td>\n      <td>Congratulations</td>\n      <td>200</td>\n      <td>1541107493796</td>\n      <td>\"Mozilla/5.0 (Windows NT 6.1; WOW64) AppleWebK...</td>\n      <td>8</td>\n    </tr>\n    <tr>\n      <th>9</th>\n      <td>Girl Talk</td>\n      <td>Logged In</td>\n      <td>Kaylee</td>\n      <td>F</td>\n      <td>8</td>\n      <td>Summers</td>\n      <td>160.15628</td>\n      <td>free</td>\n      <td>Phoenix-Mesa-Scottsdale, AZ</td>\n      <td>PUT</td>\n      <td>NextSong</td>\n      <td>1540344794796</td>\n      <td>139</td>\n      <td>Once again</td>\n      <td>200</td>\n      <td>1541107734796</td>\n      <td>\"Mozilla/5.0 (Windows NT 6.1; WOW64) AppleWebK...</td>\n      <td>8</td>\n    </tr>\n    <tr>\n      <th>10</th>\n      <td>Black Eyed Peas</td>\n      <td>Logged In</td>\n      <td>Sylvie</td>\n      <td>F</td>\n      <td>0</td>\n      <td>Cruz</td>\n      <td>214.93506</td>\n      <td>free</td>\n      <td>Washington-Arlington-Alexandria, DC-VA-MD-WV</td>\n      <td>PUT</td>\n      <td>NextSong</td>\n      <td>1540266185796</td>\n      <td>9</td>\n      <td>Pump It</td>\n      <td>200</td>\n      <td>1541108520796</td>\n      <td>\"Mozilla/5.0 (Macintosh; Intel Mac OS X 10_9_4...</td>\n      <td>10</td>\n    </tr>\n    <tr>\n      <th>11</th>\n      <td>None</td>\n      <td>Logged In</td>\n      <td>Ryan</td>\n      <td>M</td>\n      <td>0</td>\n      <td>Smith</td>\n      <td>NaN</td>\n      <td>free</td>\n      <td>San Jose-Sunnyvale-Santa Clara, CA</td>\n      <td>GET</td>\n      <td>Home</td>\n      <td>1541016707796</td>\n      <td>169</td>\n      <td>None</td>\n      <td>200</td>\n      <td>1541109015796</td>\n      <td>\"Mozilla/5.0 (X11; Linux x86_64) AppleWebKit/5...</td>\n      <td>26</td>\n    </tr>\n    <tr>\n      <th>12</th>\n      <td>Fall Out Boy</td>\n      <td>Logged In</td>\n      <td>Ryan</td>\n      <td>M</td>\n      <td>1</td>\n      <td>Smith</td>\n      <td>200.72444</td>\n      <td>free</td>\n      <td>San Jose-Sunnyvale-Santa Clara, CA</td>\n      <td>PUT</td>\n      <td>NextSong</td>\n      <td>1541016707796</td>\n      <td>169</td>\n      <td>Nobody Puts Baby In The Corner</td>\n      <td>200</td>\n      <td>1541109125796</td>\n      <td>\"Mozilla/5.0 (X11; Linux x86_64) AppleWebKit/5...</td>\n      <td>26</td>\n    </tr>\n    <tr>\n      <th>13</th>\n      <td>M.I.A.</td>\n      <td>Logged In</td>\n      <td>Ryan</td>\n      <td>M</td>\n      <td>2</td>\n      <td>Smith</td>\n      <td>233.71710</td>\n      <td>free</td>\n      <td>San Jose-Sunnyvale-Santa Clara, CA</td>\n      <td>PUT</td>\n      <td>NextSong</td>\n      <td>1541016707796</td>\n      <td>169</td>\n      <td>Mango Pickle Down River (With The Wilcannia Mob)</td>\n      <td>200</td>\n      <td>1541109325796</td>\n      <td>\"Mozilla/5.0 (X11; Linux x86_64) AppleWebKit/5...</td>\n      <td>26</td>\n    </tr>\n    <tr>\n      <th>14</th>\n      <td>Survivor</td>\n      <td>Logged In</td>\n      <td>Jayden</td>\n      <td>M</td>\n      <td>0</td>\n      <td>Fox</td>\n      <td>245.36771</td>\n      <td>free</td>\n      <td>New Orleans-Metairie, LA</td>\n      <td>PUT</td>\n      <td>NextSong</td>\n      <td>1541033612796</td>\n      <td>100</td>\n      <td>Eye Of The Tiger</td>\n      <td>200</td>\n      <td>1541110994796</td>\n      <td>\"Mozilla/5.0 (Windows NT 6.3; WOW64) AppleWebK...</td>\n      <td>101</td>\n    </tr>\n  </tbody>\n</table>\n</div>"
     },
     "metadata": {},
     "execution_count": 12
    }
   ],
   "source": [
    "df_log = pd.read_json(log_files[0], lines = True)\n",
    "df_log"
   ]
  },
  {
   "source": [
    "## time Table\n",
    "### Extract Data for Time Table\n",
    "* Filter records by NextSong action\n",
    "* Convert the ts timestamp column to datetime\n",
    "    * Hint: the current timestamp is in milliseconds\n",
    "* Extract the timestamp, hour, day, week of year, month, year, and weekday from the ts * column and set time_data to a list containing these values in order\n",
    "    * Hint: use pandas' dt attribute to access easily datetimelike properties.\n",
    "* Specify labels for these columns and set to column_labels\n",
    "* Create a dataframe, time_df, containing the time data for this file by combining column_labels and time_data into a dictionary and converting this into a dataframe"
   ],
   "cell_type": "markdown",
   "metadata": {}
  },
  {
   "cell_type": "code",
   "execution_count": 13,
   "metadata": {},
   "outputs": [
    {
     "output_type": "execute_result",
     "data": {
      "text/plain": [
       "              artist       auth firstName gender  itemInSession lastName  \\\n",
       "2            Des'ree  Logged In    Kaylee      F              1  Summers   \n",
       "4            Mr Oizo  Logged In    Kaylee      F              3  Summers   \n",
       "5         Tamba Trio  Logged In    Kaylee      F              4  Summers   \n",
       "6     The Mars Volta  Logged In    Kaylee      F              5  Summers   \n",
       "7  Infected Mushroom  Logged In    Kaylee      F              6  Summers   \n",
       "\n",
       "      length level                     location method      page  \\\n",
       "2  246.30812  free  Phoenix-Mesa-Scottsdale, AZ    PUT  NextSong   \n",
       "4  144.03873  free  Phoenix-Mesa-Scottsdale, AZ    PUT  NextSong   \n",
       "5  177.18812  free  Phoenix-Mesa-Scottsdale, AZ    PUT  NextSong   \n",
       "6  380.42077  free  Phoenix-Mesa-Scottsdale, AZ    PUT  NextSong   \n",
       "7  440.26730  free  Phoenix-Mesa-Scottsdale, AZ    PUT  NextSong   \n",
       "\n",
       "    registration  sessionId                          song  status  \\\n",
       "2  1540344794796        139                  You Gotta Be     200   \n",
       "4  1540344794796        139                       Flat 55     200   \n",
       "5  1540344794796        139  Quem Quiser Encontrar O Amor     200   \n",
       "6  1540344794796        139                     Eriatarka     200   \n",
       "7  1540344794796        139               Becoming Insane     200   \n",
       "\n",
       "              ts                                          userAgent  userId  \n",
       "2  1541106106796  \"Mozilla/5.0 (Windows NT 6.1; WOW64) AppleWebK...       8  \n",
       "4  1541106352796  \"Mozilla/5.0 (Windows NT 6.1; WOW64) AppleWebK...       8  \n",
       "5  1541106496796  \"Mozilla/5.0 (Windows NT 6.1; WOW64) AppleWebK...       8  \n",
       "6  1541106673796  \"Mozilla/5.0 (Windows NT 6.1; WOW64) AppleWebK...       8  \n",
       "7  1541107053796  \"Mozilla/5.0 (Windows NT 6.1; WOW64) AppleWebK...       8  "
      ],
      "text/html": "<div>\n<style scoped>\n    .dataframe tbody tr th:only-of-type {\n        vertical-align: middle;\n    }\n\n    .dataframe tbody tr th {\n        vertical-align: top;\n    }\n\n    .dataframe thead th {\n        text-align: right;\n    }\n</style>\n<table border=\"1\" class=\"dataframe\">\n  <thead>\n    <tr style=\"text-align: right;\">\n      <th></th>\n      <th>artist</th>\n      <th>auth</th>\n      <th>firstName</th>\n      <th>gender</th>\n      <th>itemInSession</th>\n      <th>lastName</th>\n      <th>length</th>\n      <th>level</th>\n      <th>location</th>\n      <th>method</th>\n      <th>page</th>\n      <th>registration</th>\n      <th>sessionId</th>\n      <th>song</th>\n      <th>status</th>\n      <th>ts</th>\n      <th>userAgent</th>\n      <th>userId</th>\n    </tr>\n  </thead>\n  <tbody>\n    <tr>\n      <th>2</th>\n      <td>Des'ree</td>\n      <td>Logged In</td>\n      <td>Kaylee</td>\n      <td>F</td>\n      <td>1</td>\n      <td>Summers</td>\n      <td>246.30812</td>\n      <td>free</td>\n      <td>Phoenix-Mesa-Scottsdale, AZ</td>\n      <td>PUT</td>\n      <td>NextSong</td>\n      <td>1540344794796</td>\n      <td>139</td>\n      <td>You Gotta Be</td>\n      <td>200</td>\n      <td>1541106106796</td>\n      <td>\"Mozilla/5.0 (Windows NT 6.1; WOW64) AppleWebK...</td>\n      <td>8</td>\n    </tr>\n    <tr>\n      <th>4</th>\n      <td>Mr Oizo</td>\n      <td>Logged In</td>\n      <td>Kaylee</td>\n      <td>F</td>\n      <td>3</td>\n      <td>Summers</td>\n      <td>144.03873</td>\n      <td>free</td>\n      <td>Phoenix-Mesa-Scottsdale, AZ</td>\n      <td>PUT</td>\n      <td>NextSong</td>\n      <td>1540344794796</td>\n      <td>139</td>\n      <td>Flat 55</td>\n      <td>200</td>\n      <td>1541106352796</td>\n      <td>\"Mozilla/5.0 (Windows NT 6.1; WOW64) AppleWebK...</td>\n      <td>8</td>\n    </tr>\n    <tr>\n      <th>5</th>\n      <td>Tamba Trio</td>\n      <td>Logged In</td>\n      <td>Kaylee</td>\n      <td>F</td>\n      <td>4</td>\n      <td>Summers</td>\n      <td>177.18812</td>\n      <td>free</td>\n      <td>Phoenix-Mesa-Scottsdale, AZ</td>\n      <td>PUT</td>\n      <td>NextSong</td>\n      <td>1540344794796</td>\n      <td>139</td>\n      <td>Quem Quiser Encontrar O Amor</td>\n      <td>200</td>\n      <td>1541106496796</td>\n      <td>\"Mozilla/5.0 (Windows NT 6.1; WOW64) AppleWebK...</td>\n      <td>8</td>\n    </tr>\n    <tr>\n      <th>6</th>\n      <td>The Mars Volta</td>\n      <td>Logged In</td>\n      <td>Kaylee</td>\n      <td>F</td>\n      <td>5</td>\n      <td>Summers</td>\n      <td>380.42077</td>\n      <td>free</td>\n      <td>Phoenix-Mesa-Scottsdale, AZ</td>\n      <td>PUT</td>\n      <td>NextSong</td>\n      <td>1540344794796</td>\n      <td>139</td>\n      <td>Eriatarka</td>\n      <td>200</td>\n      <td>1541106673796</td>\n      <td>\"Mozilla/5.0 (Windows NT 6.1; WOW64) AppleWebK...</td>\n      <td>8</td>\n    </tr>\n    <tr>\n      <th>7</th>\n      <td>Infected Mushroom</td>\n      <td>Logged In</td>\n      <td>Kaylee</td>\n      <td>F</td>\n      <td>6</td>\n      <td>Summers</td>\n      <td>440.26730</td>\n      <td>free</td>\n      <td>Phoenix-Mesa-Scottsdale, AZ</td>\n      <td>PUT</td>\n      <td>NextSong</td>\n      <td>1540344794796</td>\n      <td>139</td>\n      <td>Becoming Insane</td>\n      <td>200</td>\n      <td>1541107053796</td>\n      <td>\"Mozilla/5.0 (Windows NT 6.1; WOW64) AppleWebK...</td>\n      <td>8</td>\n    </tr>\n  </tbody>\n</table>\n</div>"
     },
     "metadata": {},
     "execution_count": 13
    }
   ],
   "source": [
    "df_log = df_log[df_log['page'] == 'NextSong']\n",
    "df_log.head()"
   ]
  },
  {
   "cell_type": "code",
   "execution_count": 14,
   "metadata": {},
   "outputs": [
    {
     "output_type": "execute_result",
     "data": {
      "text/plain": [
       "2    2018-11-01 21:01:46.796\n",
       "4    2018-11-01 21:05:52.796\n",
       "5    2018-11-01 21:08:16.796\n",
       "6    2018-11-01 21:11:13.796\n",
       "7    2018-11-01 21:17:33.796\n",
       "8    2018-11-01 21:24:53.796\n",
       "9    2018-11-01 21:28:54.796\n",
       "10   2018-11-01 21:42:00.796\n",
       "12   2018-11-01 21:52:05.796\n",
       "13   2018-11-01 21:55:25.796\n",
       "14   2018-11-01 22:23:14.796\n",
       "Name: ts, dtype: datetime64[ns]"
      ]
     },
     "metadata": {},
     "execution_count": 14
    }
   ],
   "source": [
    "ts = pd.to_datetime(df_log['ts'], unit = 'ms')\n",
    "ts"
   ]
  },
  {
   "cell_type": "code",
   "execution_count": 15,
   "metadata": {},
   "outputs": [],
   "source": [
    "data_time = []\n",
    "for row in ts:\n",
    "    data_time.append([row, row.hour, row.day, row.week, row.month, row.year, row.day_name()])\n",
    "col_labels = ('start_time', 'hour', 'day', 'week', 'month','year','weekday')"
   ]
  },
  {
   "cell_type": "code",
   "execution_count": 16,
   "metadata": {},
   "outputs": [
    {
     "output_type": "execute_result",
     "data": {
      "text/plain": [
       "               start_time  hour  day  week  month  year   weekday\n",
       "0 2018-11-01 21:01:46.796    21    1    44     11  2018  Thursday\n",
       "1 2018-11-01 21:05:52.796    21    1    44     11  2018  Thursday\n",
       "2 2018-11-01 21:08:16.796    21    1    44     11  2018  Thursday\n",
       "3 2018-11-01 21:11:13.796    21    1    44     11  2018  Thursday\n",
       "4 2018-11-01 21:17:33.796    21    1    44     11  2018  Thursday"
      ],
      "text/html": "<div>\n<style scoped>\n    .dataframe tbody tr th:only-of-type {\n        vertical-align: middle;\n    }\n\n    .dataframe tbody tr th {\n        vertical-align: top;\n    }\n\n    .dataframe thead th {\n        text-align: right;\n    }\n</style>\n<table border=\"1\" class=\"dataframe\">\n  <thead>\n    <tr style=\"text-align: right;\">\n      <th></th>\n      <th>start_time</th>\n      <th>hour</th>\n      <th>day</th>\n      <th>week</th>\n      <th>month</th>\n      <th>year</th>\n      <th>weekday</th>\n    </tr>\n  </thead>\n  <tbody>\n    <tr>\n      <th>0</th>\n      <td>2018-11-01 21:01:46.796</td>\n      <td>21</td>\n      <td>1</td>\n      <td>44</td>\n      <td>11</td>\n      <td>2018</td>\n      <td>Thursday</td>\n    </tr>\n    <tr>\n      <th>1</th>\n      <td>2018-11-01 21:05:52.796</td>\n      <td>21</td>\n      <td>1</td>\n      <td>44</td>\n      <td>11</td>\n      <td>2018</td>\n      <td>Thursday</td>\n    </tr>\n    <tr>\n      <th>2</th>\n      <td>2018-11-01 21:08:16.796</td>\n      <td>21</td>\n      <td>1</td>\n      <td>44</td>\n      <td>11</td>\n      <td>2018</td>\n      <td>Thursday</td>\n    </tr>\n    <tr>\n      <th>3</th>\n      <td>2018-11-01 21:11:13.796</td>\n      <td>21</td>\n      <td>1</td>\n      <td>44</td>\n      <td>11</td>\n      <td>2018</td>\n      <td>Thursday</td>\n    </tr>\n    <tr>\n      <th>4</th>\n      <td>2018-11-01 21:17:33.796</td>\n      <td>21</td>\n      <td>1</td>\n      <td>44</td>\n      <td>11</td>\n      <td>2018</td>\n      <td>Thursday</td>\n    </tr>\n  </tbody>\n</table>\n</div>"
     },
     "metadata": {},
     "execution_count": 16
    }
   ],
   "source": [
    "df_time = pd.DataFrame.from_records(data_time, columns=col_labels)\n",
    "df_time.head()"
   ]
  },
  {
   "cell_type": "code",
   "execution_count": 17,
   "metadata": {},
   "outputs": [],
   "source": [
    "for i, row in df_time.iterrows():\n",
    "    cur.execute(sql_queries.insert_record.time, list(row))\n",
    "    conn.commit()"
   ]
  },
  {
   "source": [
    "## users Table\n",
    "Extract Data for Users Table\n",
    "* Select columns for user ID, first name, last name, gender and level and set to user_df"
   ],
   "cell_type": "markdown",
   "metadata": {}
  },
  {
   "cell_type": "code",
   "execution_count": 18,
   "metadata": {},
   "outputs": [
    {
     "output_type": "execute_result",
     "data": {
      "text/plain": [
       "    userId firstName lastName gender level\n",
       "2        8    Kaylee  Summers      F  free\n",
       "4        8    Kaylee  Summers      F  free\n",
       "5        8    Kaylee  Summers      F  free\n",
       "6        8    Kaylee  Summers      F  free\n",
       "7        8    Kaylee  Summers      F  free\n",
       "8        8    Kaylee  Summers      F  free\n",
       "9        8    Kaylee  Summers      F  free\n",
       "10      10    Sylvie     Cruz      F  free\n",
       "12      26      Ryan    Smith      M  free\n",
       "13      26      Ryan    Smith      M  free\n",
       "14     101    Jayden      Fox      M  free"
      ],
      "text/html": "<div>\n<style scoped>\n    .dataframe tbody tr th:only-of-type {\n        vertical-align: middle;\n    }\n\n    .dataframe tbody tr th {\n        vertical-align: top;\n    }\n\n    .dataframe thead th {\n        text-align: right;\n    }\n</style>\n<table border=\"1\" class=\"dataframe\">\n  <thead>\n    <tr style=\"text-align: right;\">\n      <th></th>\n      <th>userId</th>\n      <th>firstName</th>\n      <th>lastName</th>\n      <th>gender</th>\n      <th>level</th>\n    </tr>\n  </thead>\n  <tbody>\n    <tr>\n      <th>2</th>\n      <td>8</td>\n      <td>Kaylee</td>\n      <td>Summers</td>\n      <td>F</td>\n      <td>free</td>\n    </tr>\n    <tr>\n      <th>4</th>\n      <td>8</td>\n      <td>Kaylee</td>\n      <td>Summers</td>\n      <td>F</td>\n      <td>free</td>\n    </tr>\n    <tr>\n      <th>5</th>\n      <td>8</td>\n      <td>Kaylee</td>\n      <td>Summers</td>\n      <td>F</td>\n      <td>free</td>\n    </tr>\n    <tr>\n      <th>6</th>\n      <td>8</td>\n      <td>Kaylee</td>\n      <td>Summers</td>\n      <td>F</td>\n      <td>free</td>\n    </tr>\n    <tr>\n      <th>7</th>\n      <td>8</td>\n      <td>Kaylee</td>\n      <td>Summers</td>\n      <td>F</td>\n      <td>free</td>\n    </tr>\n    <tr>\n      <th>8</th>\n      <td>8</td>\n      <td>Kaylee</td>\n      <td>Summers</td>\n      <td>F</td>\n      <td>free</td>\n    </tr>\n    <tr>\n      <th>9</th>\n      <td>8</td>\n      <td>Kaylee</td>\n      <td>Summers</td>\n      <td>F</td>\n      <td>free</td>\n    </tr>\n    <tr>\n      <th>10</th>\n      <td>10</td>\n      <td>Sylvie</td>\n      <td>Cruz</td>\n      <td>F</td>\n      <td>free</td>\n    </tr>\n    <tr>\n      <th>12</th>\n      <td>26</td>\n      <td>Ryan</td>\n      <td>Smith</td>\n      <td>M</td>\n      <td>free</td>\n    </tr>\n    <tr>\n      <th>13</th>\n      <td>26</td>\n      <td>Ryan</td>\n      <td>Smith</td>\n      <td>M</td>\n      <td>free</td>\n    </tr>\n    <tr>\n      <th>14</th>\n      <td>101</td>\n      <td>Jayden</td>\n      <td>Fox</td>\n      <td>M</td>\n      <td>free</td>\n    </tr>\n  </tbody>\n</table>\n</div>"
     },
     "metadata": {},
     "execution_count": 18
    }
   ],
   "source": [
    "df_user = df_log[['userId', 'firstName', 'lastName', 'gender', 'level']]\n",
    "df_user"
   ]
  },
  {
   "cell_type": "code",
   "execution_count": 19,
   "metadata": {},
   "outputs": [],
   "source": [
    "for i, row in df_user.iterrows():\n",
    "    cur.execute(sql_queries.insert_record.user, list(row))\n",
    "    conn.commit()"
   ]
  },
  {
   "source": [
    "\n",
    "## songplays Table\n",
    "###Extract Data and Songplays Table\n",
    "This one is a little more complicated since information from the songs table, artists table, and original log file are all needed for the songplays table. Since the log file does not specify an ID for either the song or the artist, you'll need to get the song ID and artist ID by querying the songs and artists tables to find matches based on song title, artist name, and song duration time.\n",
    "\n",
    "* Implement the song_select query in sql_queries.py to find the song ID and artist ID based on the title, artist name, and duration of a song.\n",
    "* Select the timestamp, user ID, level, song ID, artist ID, session ID, location, and user agent and set to songplay_data\n",
    "### Insert Records into Songplays Table\n",
    "* Implement the songplay_table_insert query and run the cell below to insert records for the songplay actions in this log file into the songplays table. Remember to run create_tables.py before running the cell below to ensure you've created/resetted the songplays table in the sparkify database."
   ],
   "cell_type": "markdown",
   "metadata": {}
  },
  {
   "cell_type": "code",
   "execution_count": 20,
   "metadata": {},
   "outputs": [],
   "source": [
    "for i, row in df_log.iterrows():\n",
    "\n",
    "    cur.execute(sql_queries.select.song, (row.song, row.artist, row.length))\n",
    "    result = cur.fetchone()\n",
    "\n",
    "    if result:\n",
    "        songid, artistid = results\n",
    "    else:\n",
    "        songid, artistid = None, None\n",
    "\n",
    "    data_songplay = (i, pd.to_datetime(row.ts, unit='ms'), int(row.userId), row.level, songid, artist_id, row.sessionId, row.location, row.userAgent)\n",
    "\n",
    "    cur.execute(sql_queries.insert_record.songplay, data_songplay)\n",
    "    conn.commit()"
   ]
  },
  {
   "cell_type": "code",
   "execution_count": 21,
   "metadata": {},
   "outputs": [],
   "source": [
    "conn.close()"
   ]
  },
  {
   "cell_type": "code",
   "execution_count": null,
   "metadata": {},
   "outputs": [],
   "source": []
  }
 ]
}